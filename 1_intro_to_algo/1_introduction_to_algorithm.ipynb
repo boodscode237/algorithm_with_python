{
 "cells": [
  {
   "cell_type": "markdown",
   "metadata": {},
   "source": [
    "# Describe an algorithm"
   ]
  },
  {
   "cell_type": "markdown",
   "metadata": {},
   "source": [
    "When working with algorithms, we consider the inputs, the desired outputs, and process used to obtain the desired output from a given input.\n",
    "Algorithm: A sequence of steps used to solve a problem. The sequence presents a unique method of addressing an issue by providing a particular solution.\n",
    "In order for a process to represent an algorithm, it must be: \n",
    "• Finite: The algorithm must eventually solve the problem. \n",
    "• Well-defined: The series of steps must be precise and present steps that\n",
    "are understandable.\n",
    "• Effective: An algorithm must solve all cases of the problem for which\n",
    "someone defined it.\n",
    "\n",
    "Here are some interesting uses for you to consider:\n",
    "\n",
    "- Searching: Locating information or verifying that the information you see is the information you want is an essential task.\n",
    "- Sorting: Determining which order to use to present information is important because most people today suffer from information overload, and putting information in order is one way to reduce the onrush of data.\n",
    "- Transforming: Converting one sort of data to another sort of data is critical to understanding and using the data effectively.\n",
    "- Scheduling: Making the use of resources fair to all concerned is another way in which algorithms make their presence known in a big way.\n",
    "- Graph analysis: Deciding on the shortest line between two points finds all sorts of uses.\n",
    "- Cryptography: Keeping data safe is an ongoing battle with hackers constantly attacking data sources.\n",
    "- Pseudorandom number generation."
   ]
  },
  {
   "cell_type": "markdown",
   "metadata": {},
   "source": [
    "## Working with Numbers and Logic"
   ]
  },
  {
   "cell_type": "code",
   "execution_count": null,
   "metadata": {},
   "outputs": [],
   "source": []
  }
 ],
 "metadata": {
  "kernelspec": {
   "display_name": "Python 3 (ipykernel)",
   "language": "python",
   "name": "python3"
  },
  "language_info": {
   "codemirror_mode": {
    "name": "ipython",
    "version": 3
   },
   "file_extension": ".py",
   "mimetype": "text/x-python",
   "name": "python",
   "nbconvert_exporter": "python",
   "pygments_lexer": "ipython3",
   "version": "3.10.6"
  }
 },
 "nbformat": 4,
 "nbformat_minor": 1
}

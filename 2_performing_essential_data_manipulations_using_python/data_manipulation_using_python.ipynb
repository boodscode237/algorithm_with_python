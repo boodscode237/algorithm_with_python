{
 "cells": [
  {
   "cell_type": "markdown",
   "id": "bdcd9b28",
   "metadata": {},
   "source": [
    "# Performing Calculations Using Vectors and Matrixes"
   ]
  },
  {
   "cell_type": "code",
   "execution_count": 1,
   "id": "edf62115",
   "metadata": {},
   "outputs": [],
   "source": [
    "import numpy as np"
   ]
  },
  {
   "cell_type": "code",
   "execution_count": 2,
   "id": "f9406b86",
   "metadata": {},
   "outputs": [],
   "source": [
    " myShort = np.short(15)"
   ]
  },
  {
   "cell_type": "code",
   "execution_count": 3,
   "id": "2fddbf5b",
   "metadata": {},
   "outputs": [
    {
     "data": {
      "text/plain": [
       "15"
      ]
     },
     "execution_count": 3,
     "metadata": {},
     "output_type": "execute_result"
    }
   ],
   "source": [
    "myShort"
   ]
  },
  {
   "cell_type": "code",
   "execution_count": 4,
   "id": "f2e0a818",
   "metadata": {},
   "outputs": [],
   "source": [
    "myVect = np.array([1, 2, 3, 4])"
   ]
  },
  {
   "cell_type": "code",
   "execution_count": 5,
   "id": "f9745732",
   "metadata": {},
   "outputs": [
    {
     "data": {
      "text/plain": [
       "array([1, 2, 3, 4])"
      ]
     },
     "execution_count": 5,
     "metadata": {},
     "output_type": "execute_result"
    }
   ],
   "source": [
    "myVect"
   ]
  },
  {
   "cell_type": "code",
   "execution_count": 7,
   "id": "9dc546d6",
   "metadata": {},
   "outputs": [],
   "source": [
    "myVect = np.arange(1, 10, 2)"
   ]
  },
  {
   "cell_type": "code",
   "execution_count": 8,
   "id": "1e3bc5ae",
   "metadata": {},
   "outputs": [
    {
     "data": {
      "text/plain": [
       "array([1, 3, 5, 7, 9])"
      ]
     },
     "execution_count": 8,
     "metadata": {},
     "output_type": "execute_result"
    }
   ],
   "source": [
    "myVect"
   ]
  },
  {
   "cell_type": "code",
   "execution_count": 10,
   "id": "ff0e7e10",
   "metadata": {},
   "outputs": [],
   "source": [
    "# Create a vector with a data type\n",
    "myVect = np.array(np.int16([1, 2, 3, 4]))\n",
    "myVect2 = np.array([1, 2, 3, 4], dtype='int16')"
   ]
  },
  {
   "cell_type": "code",
   "execution_count": 11,
   "id": "373d09cf",
   "metadata": {},
   "outputs": [
    {
     "data": {
      "text/plain": [
       "array([1, 2, 3, 4], dtype=int16)"
      ]
     },
     "execution_count": 11,
     "metadata": {},
     "output_type": "execute_result"
    }
   ],
   "source": [
    "myVect2"
   ]
  },
  {
   "cell_type": "code",
   "execution_count": 12,
   "id": "82412f9c",
   "metadata": {},
   "outputs": [
    {
     "data": {
      "text/plain": [
       "array([1, 2, 3, 4], dtype=int16)"
      ]
     },
     "execution_count": 12,
     "metadata": {},
     "output_type": "execute_result"
    }
   ],
   "source": [
    "myVect"
   ]
  },
  {
   "cell_type": "code",
   "execution_count": 13,
   "id": "f3de73dd",
   "metadata": {},
   "outputs": [],
   "source": [
    "myVect = np.ones(4, dtype=np.int16)"
   ]
  },
  {
   "cell_type": "code",
   "execution_count": 14,
   "id": "390498a1",
   "metadata": {},
   "outputs": [
    {
     "data": {
      "text/plain": [
       "array([1, 1, 1, 1], dtype=int16)"
      ]
     },
     "execution_count": 14,
     "metadata": {},
     "output_type": "execute_result"
    }
   ],
   "source": [
    "myVect"
   ]
  },
  {
   "cell_type": "code",
   "execution_count": 15,
   "id": "156515cf",
   "metadata": {},
   "outputs": [],
   "source": [
    "myVect = np.zeros(4, dtype=np.int16)"
   ]
  },
  {
   "cell_type": "code",
   "execution_count": 16,
   "id": "4638715e",
   "metadata": {},
   "outputs": [
    {
     "data": {
      "text/plain": [
       "array([0, 0, 0, 0], dtype=int16)"
      ]
     },
     "execution_count": 16,
     "metadata": {},
     "output_type": "execute_result"
    }
   ],
   "source": [
    "myVect"
   ]
  },
  {
   "cell_type": "code",
   "execution_count": 17,
   "id": "9faeab3f",
   "metadata": {},
   "outputs": [],
   "source": [
    "a = np.array([1, 2, 3, 4])\n",
    "b = np.array([2, 2, 4, 4])"
   ]
  },
  {
   "cell_type": "code",
   "execution_count": 18,
   "id": "38ddddfb",
   "metadata": {},
   "outputs": [
    {
     "data": {
      "text/plain": [
       "array([False,  True, False,  True])"
      ]
     },
     "execution_count": 18,
     "metadata": {},
     "output_type": "execute_result"
    }
   ],
   "source": [
    "a == b"
   ]
  },
  {
   "cell_type": "code",
   "execution_count": 19,
   "id": "0676a468",
   "metadata": {},
   "outputs": [
    {
     "data": {
      "text/plain": [
       "array([ True, False,  True, False])"
      ]
     },
     "execution_count": 19,
     "metadata": {},
     "output_type": "execute_result"
    }
   ],
   "source": [
    "a < b"
   ]
  },
  {
   "cell_type": "code",
   "execution_count": 20,
   "id": "ac8768e1",
   "metadata": {},
   "outputs": [],
   "source": [
    "a = np.array([True, False, True, False])\n",
    "b = np.array([True, True, False, False])"
   ]
  },
  {
   "cell_type": "code",
   "execution_count": 21,
   "id": "fc5ff04f",
   "metadata": {},
   "outputs": [
    {
     "data": {
      "text/plain": [
       "array([ True,  True,  True, False])"
      ]
     },
     "execution_count": 21,
     "metadata": {},
     "output_type": "execute_result"
    }
   ],
   "source": [
    "np.logical_or(a, b)"
   ]
  },
  {
   "cell_type": "code",
   "execution_count": 22,
   "id": "15e4f4ec",
   "metadata": {},
   "outputs": [
    {
     "data": {
      "text/plain": [
       "array([ True, False, False, False])"
      ]
     },
     "execution_count": 22,
     "metadata": {},
     "output_type": "execute_result"
    }
   ],
   "source": [
    "np.logical_and(a, b)"
   ]
  },
  {
   "cell_type": "code",
   "execution_count": 23,
   "id": "20002b28",
   "metadata": {},
   "outputs": [
    {
     "data": {
      "text/plain": [
       "array([False,  True, False,  True])"
      ]
     },
     "execution_count": 23,
     "metadata": {},
     "output_type": "execute_result"
    }
   ],
   "source": [
    "np.logical_not(a, b)"
   ]
  },
  {
   "cell_type": "code",
   "execution_count": 24,
   "id": "441cbf15",
   "metadata": {},
   "outputs": [
    {
     "data": {
      "text/plain": [
       "array([ True,  True,  True,  True])"
      ]
     },
     "execution_count": 24,
     "metadata": {},
     "output_type": "execute_result"
    }
   ],
   "source": [
    "np.logical_xor(a, b)"
   ]
  },
  {
   "cell_type": "code",
   "execution_count": null,
   "id": "0c895952",
   "metadata": {},
   "outputs": [],
   "source": []
  }
 ],
 "metadata": {
  "kernelspec": {
   "display_name": "Python 3 (ipykernel)",
   "language": "python",
   "name": "python3"
  },
  "language_info": {
   "codemirror_mode": {
    "name": "ipython",
    "version": 3
   },
   "file_extension": ".py",
   "mimetype": "text/x-python",
   "name": "python",
   "nbconvert_exporter": "python",
   "pygments_lexer": "ipython3",
   "version": "3.10.6"
  }
 },
 "nbformat": 4,
 "nbformat_minor": 5
}

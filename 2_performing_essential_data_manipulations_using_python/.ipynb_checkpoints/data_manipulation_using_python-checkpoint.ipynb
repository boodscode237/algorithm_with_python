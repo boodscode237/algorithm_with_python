{
 "cells": [
  {
   "cell_type": "markdown",
   "id": "eebe726e",
   "metadata": {},
   "source": [
    "# Performing Calculations Using Vectors and Matrixes"
   ]
  },
  {
   "cell_type": "code",
   "execution_count": 1,
   "id": "36d823c5",
   "metadata": {},
   "outputs": [],
   "source": [
    "import numpy as np"
   ]
  },
  {
   "cell_type": "code",
   "execution_count": 2,
   "id": "07805919",
   "metadata": {},
   "outputs": [],
   "source": [
    " myShort = np.short(15)"
   ]
  },
  {
   "cell_type": "code",
   "execution_count": 3,
   "id": "54b7e237",
   "metadata": {},
   "outputs": [
    {
     "data": {
      "text/plain": [
       "15"
      ]
     },
     "execution_count": 3,
     "metadata": {},
     "output_type": "execute_result"
    }
   ],
   "source": [
    "myShort"
   ]
  },
  {
   "cell_type": "code",
   "execution_count": 4,
   "id": "bcd3770a",
   "metadata": {},
   "outputs": [],
   "source": [
    "myVect = np.array([1, 2, 3, 4])"
   ]
  },
  {
   "cell_type": "code",
   "execution_count": 5,
   "id": "a4a822c6",
   "metadata": {},
   "outputs": [
    {
     "data": {
      "text/plain": [
       "array([1, 2, 3, 4])"
      ]
     },
     "execution_count": 5,
     "metadata": {},
     "output_type": "execute_result"
    }
   ],
   "source": [
    "myVect"
   ]
  },
  {
   "cell_type": "code",
   "execution_count": 7,
   "id": "6e1b75db",
   "metadata": {},
   "outputs": [],
   "source": [
    "myVect = np.arange(1, 10, 2)"
   ]
  },
  {
   "cell_type": "code",
   "execution_count": 8,
   "id": "8ff3713a",
   "metadata": {},
   "outputs": [
    {
     "data": {
      "text/plain": [
       "array([1, 3, 5, 7, 9])"
      ]
     },
     "execution_count": 8,
     "metadata": {},
     "output_type": "execute_result"
    }
   ],
   "source": [
    "myVect"
   ]
  },
  {
   "cell_type": "code",
   "execution_count": 10,
   "id": "104dd120",
   "metadata": {},
   "outputs": [],
   "source": [
    "# Create a vector with a data type\n",
    "myVect = np.array(np.int16([1, 2, 3, 4]))\n",
    "myVect2 = np.array([1, 2, 3, 4], dtype='int16')"
   ]
  },
  {
   "cell_type": "code",
   "execution_count": 11,
   "id": "8e7dd9af",
   "metadata": {},
   "outputs": [
    {
     "data": {
      "text/plain": [
       "array([1, 2, 3, 4], dtype=int16)"
      ]
     },
     "execution_count": 11,
     "metadata": {},
     "output_type": "execute_result"
    }
   ],
   "source": [
    "myVect2"
   ]
  },
  {
   "cell_type": "code",
   "execution_count": 12,
   "id": "86ff3479",
   "metadata": {},
   "outputs": [
    {
     "data": {
      "text/plain": [
       "array([1, 2, 3, 4], dtype=int16)"
      ]
     },
     "execution_count": 12,
     "metadata": {},
     "output_type": "execute_result"
    }
   ],
   "source": [
    "myVect"
   ]
  },
  {
   "cell_type": "code",
   "execution_count": 13,
   "id": "874f764d",
   "metadata": {},
   "outputs": [],
   "source": [
    "myVect = np.ones(4, dtype=np.int16)"
   ]
  },
  {
   "cell_type": "code",
   "execution_count": 14,
   "id": "c696088b",
   "metadata": {},
   "outputs": [
    {
     "data": {
      "text/plain": [
       "array([1, 1, 1, 1], dtype=int16)"
      ]
     },
     "execution_count": 14,
     "metadata": {},
     "output_type": "execute_result"
    }
   ],
   "source": [
    "myVect"
   ]
  },
  {
   "cell_type": "code",
   "execution_count": 15,
   "id": "cbb0b608",
   "metadata": {},
   "outputs": [],
   "source": [
    "myVect = np.zeros(4, dtype=np.int16)"
   ]
  },
  {
   "cell_type": "code",
   "execution_count": 16,
   "id": "4140fa5a",
   "metadata": {},
   "outputs": [
    {
     "data": {
      "text/plain": [
       "array([0, 0, 0, 0], dtype=int16)"
      ]
     },
     "execution_count": 16,
     "metadata": {},
     "output_type": "execute_result"
    }
   ],
   "source": [
    "myVect"
   ]
  },
  {
   "cell_type": "code",
   "execution_count": 17,
   "id": "6e0ccafb",
   "metadata": {},
   "outputs": [],
   "source": [
    "a = np.array([1, 2, 3, 4])\n",
    "b = np.array([2, 2, 4, 4])"
   ]
  },
  {
   "cell_type": "code",
   "execution_count": 18,
   "id": "40ae6ccf",
   "metadata": {},
   "outputs": [
    {
     "data": {
      "text/plain": [
       "array([False,  True, False,  True])"
      ]
     },
     "execution_count": 18,
     "metadata": {},
     "output_type": "execute_result"
    }
   ],
   "source": [
    "a == b"
   ]
  },
  {
   "cell_type": "code",
   "execution_count": 19,
   "id": "04b3440b",
   "metadata": {},
   "outputs": [
    {
     "data": {
      "text/plain": [
       "array([ True, False,  True, False])"
      ]
     },
     "execution_count": 19,
     "metadata": {},
     "output_type": "execute_result"
    }
   ],
   "source": [
    "a < b"
   ]
  },
  {
   "cell_type": "code",
   "execution_count": null,
   "id": "7d4ef1f9",
   "metadata": {},
   "outputs": [],
   "source": []
  }
 ],
 "metadata": {
  "kernelspec": {
   "display_name": "Python 3 (ipykernel)",
   "language": "python",
   "name": "python3"
  },
  "language_info": {
   "codemirror_mode": {
    "name": "ipython",
    "version": 3
   },
   "file_extension": ".py",
   "mimetype": "text/x-python",
   "name": "python",
   "nbconvert_exporter": "python",
   "pygments_lexer": "ipython3",
   "version": "3.10.6"
  }
 },
 "nbformat": 4,
 "nbformat_minor": 5
}
